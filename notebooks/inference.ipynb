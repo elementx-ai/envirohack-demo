{
 "cells": [
  {
   "cell_type": "code",
   "execution_count": null,
   "metadata": {},
   "outputs": [],
   "source": [
    "import panns_inference\n",
    "from panns_inference import AudioTagging, SoundEventDetection, labels, config\n",
    "import numpy as np\n",
    "from sed_demo.sound_event_detection import plot_sound_event_detection_result\n",
    "import torchaudio\n",
    "\n",
    "sed = SoundEventDetection(checkpoint_path=None, device='cuda')"
   ]
  },
  {
   "cell_type": "code",
   "execution_count": null,
   "metadata": {},
   "outputs": [],
   "source": [
    "audio, sr = torchaudio.load(\"../sample_data/sample.wav\")\n",
    "audio = torchaudio.functional.resample(audio, sr, 32000)\n"
   ]
  },
  {
   "cell_type": "code",
   "execution_count": null,
   "metadata": {},
   "outputs": [],
   "source": [
    "import plotly.graph_objects as go\n",
    "\n",
    "def plot_sound_event_detection_result(framewise_output) -> go.Figure:\n",
    "    \"\"\"Visualization of sound event detection result.\n",
    "    Args:\n",
    "      framewise_output: (time_steps, classes_num)\n",
    "    \"\"\"\n",
    "    classwise_output = np.max(framewise_output, axis=0)\n",
    "    idxes = np.argsort(classwise_output)[::-1]\n",
    "    idxes = idxes[:5]\n",
    "\n",
    "    print(idxes)\n",
    "\n",
    "    fig = go.Figure()\n",
    "\n",
    "    for idx in idxes:\n",
    "        fig.add_trace(go.Scatter(y=framewise_output[:, idx], name=config.ix_to_lb[idx]))\n",
    "\n",
    "    fig.update_layout(\n",
    "        title=\"Detected Sound Events\",\n",
    "        yaxis_title=\"Probability\",\n",
    "    )\n",
    "\n",
    "    return fig\n"
   ]
  },
  {
   "cell_type": "code",
   "execution_count": null,
   "metadata": {},
   "outputs": [],
   "source": [
    "print('------ Sound event detection ------')\n",
    "framewise_output = sed.inference(audio)\n",
    "\n",
    "fig = plot_sound_event_detection_result(framewise_output[0])\n",
    "fig.show()"
   ]
  }
 ],
 "metadata": {
  "kernelspec": {
   "display_name": "Python 3.8.13 ('py38')",
   "language": "python",
   "name": "python3"
  },
  "language_info": {
   "codemirror_mode": {
    "name": "ipython",
    "version": 3
   },
   "file_extension": ".py",
   "mimetype": "text/x-python",
   "name": "python",
   "nbconvert_exporter": "python",
   "pygments_lexer": "ipython3",
   "version": "3.8.13"
  },
  "orig_nbformat": 4,
  "vscode": {
   "interpreter": {
    "hash": "663821dbf276dd09332bca63cfb8063fb08e78f0e4a5bd8f2041b52af0cdbf06"
   }
  }
 },
 "nbformat": 4,
 "nbformat_minor": 2
}
